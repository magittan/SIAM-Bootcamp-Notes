{
 "cells": [
  {
   "cell_type": "code",
   "execution_count": 1,
   "metadata": {},
   "outputs": [],
   "source": [
    "# All Imports\n",
    "import numpy as np"
   ]
  },
  {
   "cell_type": "markdown",
   "metadata": {},
   "source": [
    "# Introduction\n",
    "\n",
    "For Introduction, Outline, and Major Topics, use # once for the markdown titles. Otherwise, use ## for examples and further. Use `MonteCarlo` when refering to code or variable names. Always restart and run all cells in the notebook before pushing to the repo."
   ]
  },
  {
   "cell_type": "markdown",
   "metadata": {},
   "source": [
    "# Outline"
   ]
  },
  {
   "cell_type": "markdown",
   "metadata": {},
   "source": [
    "Derivations and Latex should be formatted in Markdown\n",
    "$$1+2 = 3$$"
   ]
  },
  {
   "cell_type": "markdown",
   "metadata": {},
   "source": [
    "Images and figures should be inserted with HTML/CSS\n",
    "## Dynamic Programming Example\n",
    "<img src='example.png' width=500>"
   ]
  },
  {
   "cell_type": "markdown",
   "metadata": {},
   "source": [
    "## Example: Monte Carlo"
   ]
  },
  {
   "cell_type": "code",
   "execution_count": 4,
   "metadata": {},
   "outputs": [
    {
     "name": "stdout",
     "output_type": "stream",
     "text": [
      "Our estimate for pi is: None\n"
     ]
    }
   ],
   "source": [
    "# For each code block you have, derive a version that the students can fill in and put it first\n",
    "iterations = 1000\n",
    "x = np.random.uniform(size=iterations)\n",
    "y = np.random.uniform(size=iterations)\n",
    "\n",
    "# TODO: How should we define this parameter\n",
    "radii = None\n",
    "\n",
    "# TODO: How do we now estimate pi?\n",
    "estimate_for_pi = None\n",
    "\n",
    "print(\"Our estimate for pi is: {}\".format(estimate_for_pi))"
   ]
  },
  {
   "cell_type": "code",
   "execution_count": 5,
   "metadata": {},
   "outputs": [],
   "source": [
    "# Solution: Use comments to describe code, follow estimate_for_pi for variable names and name all variables\n",
    "iterations = 1000\n",
    "x = np.random.uniform(size=iterations)\n",
    "y = np.random.uniform(size=iterations)\n",
    "\n",
    "radii = x**2 + y**2\n",
    "\n",
    "estimate_for_pi = 4*np.sum(radii<1)/iterations"
   ]
  }
 ],
 "metadata": {
  "kernelspec": {
   "display_name": "Python 3",
   "language": "python",
   "name": "python3"
  },
  "language_info": {
   "codemirror_mode": {
    "name": "ipython",
    "version": 3
   },
   "file_extension": ".py",
   "mimetype": "text/x-python",
   "name": "python",
   "nbconvert_exporter": "python",
   "pygments_lexer": "ipython3",
   "version": "3.7.4"
  }
 },
 "nbformat": 4,
 "nbformat_minor": 2
}
