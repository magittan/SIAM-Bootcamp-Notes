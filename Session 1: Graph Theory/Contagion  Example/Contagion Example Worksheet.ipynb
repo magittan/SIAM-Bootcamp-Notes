{
 "cells": [
  {
   "cell_type": "code",
   "execution_count": 1,
   "metadata": {},
   "outputs": [],
   "source": [
    "import networkx as nx\n",
    "import numpy as np\n",
    "import matplotlib.pyplot as plt\n",
    "import scipy"
   ]
  },
  {
   "cell_type": "markdown",
   "metadata": {},
   "source": [
    "# Loading Adjacency Matrix"
   ]
  },
  {
   "cell_type": "code",
   "execution_count": 2,
   "metadata": {},
   "outputs": [],
   "source": [
    "adj_matrix = scipy.sparse.load_npz(\"example_adjacency_matrix.npz\")"
   ]
  },
  {
   "cell_type": "code",
   "execution_count": 3,
   "metadata": {},
   "outputs": [],
   "source": [
    "# How many vertices does this graph have?\n",
    "n_nodes = # Fill in\n",
    "# How many edges does this graph have?\n",
    "n_edges = # Fill in"
   ]
  },
  {
   "cell_type": "markdown",
   "metadata": {},
   "source": [
    "# Search up SIR Dynamics and Explain Below\n",
    "\n",
    "SIR dynamics are ..."
   ]
  },
  {
   "cell_type": "markdown",
   "metadata": {},
   "source": [
    "# Functions for SIR Infection Dynamics"
   ]
  },
  {
   "cell_type": "code",
   "execution_count": 4,
   "metadata": {},
   "outputs": [],
   "source": [
    "def seed_infected_vector(n,p):\n",
    "    return np.random.binomial(np.ones(n).astype(int),p)\n",
    "\n",
    "def iterate(adj_matrix, infected_vector, recovery_vector, infection_prob=0, recovery_prob = 0):\n",
    "    # New additions\n",
    "    infect_vector = (infected_vector-recovery_vector)\n",
    "    infect_vector = infect_vector + infection_prob*adj_matrix.dot(infect_vector)*(1-recovery_vector)\n",
    "    infect_vector = _flip(infect_vector)\n",
    "    infect_vector = infect_vector + recovery_vector\n",
    "    \n",
    "    # Recoveries\n",
    "    rec_vector = recovery_prob*np.ones(len(infected_vector))\n",
    "    rec_vector = _flip(rec_vector)*(infected_vector-recovery_vector)\n",
    "    rec_vector = recovery_vector+rec_vector\n",
    "    \n",
    "    return infect_vector, rec_vector\n",
    "    \n",
    "def _flip(prob_vector):\n",
    "    flips = np.random.rand(len(prob_vector))\n",
    "    return np.array(prob_vector>flips).astype(int)\n",
    "\n",
    "def simulate(seed_prob, n_nodes, infection_prob=0.1, recovery_prob=0.05, time_horizon=100, seed=0):\n",
    "    np.random.seed(seed)\n",
    "    infected_vector = seed_infected_vector(n_nodes, seed_prob)\n",
    "    recovery_vector = np.zeros(n_nodes).astype(int)\n",
    "\n",
    "    infected = []\n",
    "    recovery = []\n",
    "    \n",
    "    for i in range(time_horizon):\n",
    "        infected.append(infected_vector)\n",
    "        recovery.append(recovery_vector)\n",
    "\n",
    "        infected_vector, recovery_vector = iterate(adj_matrix, \n",
    "                                                  infected_vector,\n",
    "                                                  recovery_vector,\n",
    "                                                  infection_prob=infection_prob,\n",
    "                                                  recovery_prob = recovery_prob)\n",
    "    \n",
    "    num_infected = [i.sum() for i in infected]\n",
    "    num_recovery = [i.sum() for i in recovery]\n",
    "    num_susceptible = [n_nodes-num_infected[i] for i in range(time_horizon)]\n",
    "    \n",
    "    return num_infected, num_recovery, num_susceptible, infected, recovery"
   ]
  },
  {
   "cell_type": "code",
   "execution_count": 5,
   "metadata": {},
   "outputs": [],
   "source": [
    "seed_prob = 0.01\n",
    "infection_prob = 0.1\n",
    "recover_prob = 0.01\n",
    "\n",
    "num_infected, num_recovery, num_susceptible, infected, recovery = simulate(0.01, \n",
    "                                                                           n_nodes,\n",
    "                                                                           infection_prob=infection_prob,\n",
    "                                                                           recovery_prob=recover_prob)"
   ]
  },
  {
   "cell_type": "code",
   "execution_count": 6,
   "metadata": {},
   "outputs": [
    {
     "data": {
      "text/plain": [
       "<matplotlib.legend.Legend at 0x7fdefd30b910>"
      ]
     },
     "execution_count": 6,
     "metadata": {},
     "output_type": "execute_result"
    },
    {
     "data": {
      "image/png": "[encoded data removed]",
      "text/plain": [
       "<Figure size 432x288 with 1 Axes>"
      ]
     },
     "metadata": {
      "needs_background": "light"
     },
     "output_type": "display_data"
    }
   ],
   "source": [
    "plt.title(\"SIR Dynamics\")\n",
    "plt.plot(np.array(num_infected)-np.array(num_recovery), label=\"Infected\")\n",
    "plt.plot(num_recovery, label=\"Recovered\")\n",
    "plt.plot(num_susceptible, label=\"Susceptible\")\n",
    "plt.legend()"
   ]
  },
  {
   "cell_type": "markdown",
   "metadata": {},
   "source": [
    "#  Graph Embedding of Infected and Non-Infected Nodes"
   ]
  },
  {
   "cell_type": "markdown",
   "metadata": {},
   "source": [
    "<img src=\"contagion_embedding.png\">"
   ]
  },
  {
   "cell_type": "markdown",
   "metadata": {},
   "source": [
    "The yellow points represent infected members of the network while the purple represent the non-infected members of the network."
   ]
  }
 ],
 "metadata": {
  "hide_input": false,
  "kernelspec": {
   "display_name": "Python 3",
   "language": "python",
   "name": "python3"
  },
  "language_info": {
   "codemirror_mode": {
    "name": "ipython",
    "version": 3
   },
   "file_extension": ".py",
   "mimetype": "text/x-python",
   "name": "python",
   "nbconvert_exporter": "python",
   "pygments_lexer": "ipython3",
   "version": "3.7.4"
  },
  "latex_envs": {
   "LaTeX_envs_menu_present": true,
   "autoclose": false,
   "autocomplete": true,
   "bibliofile": "biblio.bib",
   "cite_by": "apalike",
   "current_citInitial": 1,
   "eqLabelWithNumbers": true,
   "eqNumInitial": 1,
   "hotkeys": {
    "equation": "Ctrl-E",
    "itemize": "Ctrl-I"
   },
   "labels_anchors": false,
   "latex_user_defs": false,
   "report_style_numbering": false,
   "user_envs_cfg": false
  },
  "toc": {
   "base_numbering": 1,
   "nav_menu": {},
   "number_sections": true,
   "sideBar": true,
   "skip_h1_title": false,
   "title_cell": "Table of Contents",
   "title_sidebar": "Contents",
   "toc_cell": false,
   "toc_position": {},
   "toc_section_display": true,
   "toc_window_display": false
  },
  "varInspector": {
   "cols": {
    "lenName": 16,
    "lenType": 16,
    "lenVar": 40
   },
   "kernels_config": {
    "python": {
     "delete_cmd_postfix": "",
     "delete_cmd_prefix": "del ",
     "library": "var_list.py",
     "varRefreshCmd": "print(var_dic_list())"
    },
    "r": {
     "delete_cmd_postfix": ") ",
     "delete_cmd_prefix": "rm(",
     "library": "var_list.r",
     "varRefreshCmd": "cat(var_dic_list()) "
    }
   },
   "types_to_exclude": [
    "module",
    "function",
    "builtin_function_or_method",
    "instance",
    "_Feature"
   ],
   "window_display": false
  }
 },
 "nbformat": 4,
 "nbformat_minor": 4
}
