{
 "cells": [
  {
   "cell_type": "code",
   "execution_count": 1,
   "metadata": {},
   "outputs": [],
   "source": [
    "import requests\n",
    "import json\n",
    "import pandas as pd\n",
    "import matplotlib.pyplot as plt\n",
    "import numpy as np\n",
    "import pickle\n",
    "%matplotlib inline\n",
    "\n",
    "# Get your own private token from IEX Cloud\n",
    "privateToken = \"\""
   ]
  },
  {
   "cell_type": "markdown",
   "metadata": {},
   "source": [
    "# Preprocessing Input"
   ]
  },
  {
   "cell_type": "code",
   "execution_count": 4,
   "metadata": {},
   "outputs": [],
   "source": [
    "# Opening up File for Reading in Stock Tickers\n",
    "file = open('watchlist.txt', 'r')\n",
    "tickers = file.readlines()\n",
    "tickers = [t.strip() for t in tickers]"
   ]
  },
  {
   "cell_type": "code",
   "execution_count": 7,
   "metadata": {
    "collapsed": true
   },
   "outputs": [
    {
     "data": {
      "text/plain": [
       "['GM',\n",
       " 'DKNG',\n",
       " 'GE',\n",
       " 'XL',\n",
       " 'TIGR',\n",
       " 'BLNK',\n",
       " 'FUTU',\n",
       " 'PLUG',\n",
       " 'QS',\n",
       " 'BILI',\n",
       " 'NIO',\n",
       " 'CHWY',\n",
       " 'OKTA',\n",
       " 'BABA',\n",
       " 'DASH',\n",
       " 'ABNB',\n",
       " 'AAPL',\n",
       " 'BEP',\n",
       " 'TCEHY',\n",
       " 'BYND',\n",
       " 'FDX',\n",
       " 'UPS',\n",
       " 'NET',\n",
       " 'CRM',\n",
       " 'ZS',\n",
       " 'PYPL',\n",
       " 'XPEV',\n",
       " 'GOOGL',\n",
       " 'ZM',\n",
       " 'SPOT',\n",
       " 'VWDRY',\n",
       " 'COST',\n",
       " 'SQ',\n",
       " 'DOCU',\n",
       " 'CRWD',\n",
       " 'NVDA',\n",
       " 'TSLA',\n",
       " 'AMZN',\n",
       " 'SAIL',\n",
       " 'SPLK',\n",
       " 'GLD',\n",
       " 'PBW',\n",
       " 'TAN',\n",
       " 'INTC',\n",
       " 'AMD']"
      ]
     },
     "execution_count": 7,
     "metadata": {},
     "output_type": "execute_result"
    }
   ],
   "source": [
    "tickers"
   ]
  },
  {
   "cell_type": "markdown",
   "metadata": {},
   "source": [
    "# Using an API"
   ]
  },
  {
   "cell_type": "code",
   "execution_count": 8,
   "metadata": {},
   "outputs": [],
   "source": [
    "responses = []\n",
    "for ticker in tickers:\n",
    "    requestLine = \"https://cloud.iexapis.com/stable/stock/{}/chart/{}?token={}\".format(ticker,\"2y\",privateToken)\n",
    "    response = requests.get(requestLine)\n",
    "    responses.append(response)"
   ]
  },
  {
   "cell_type": "code",
   "execution_count": 9,
   "metadata": {},
   "outputs": [
    {
     "data": {
      "text/plain": [
       "[<Response [200]>,\n",
       " <Response [200]>,\n",
       " <Response [200]>,\n",
       " <Response [200]>,\n",
       " <Response [200]>,\n",
       " <Response [200]>,\n",
       " <Response [200]>,\n",
       " <Response [200]>,\n",
       " <Response [200]>,\n",
       " <Response [200]>,\n",
       " <Response [200]>,\n",
       " <Response [200]>,\n",
       " <Response [200]>,\n",
       " <Response [200]>,\n",
       " <Response [200]>,\n",
       " <Response [200]>,\n",
       " <Response [200]>,\n",
       " <Response [200]>,\n",
       " <Response [200]>,\n",
       " <Response [200]>,\n",
       " <Response [200]>,\n",
       " <Response [200]>,\n",
       " <Response [200]>,\n",
       " <Response [200]>,\n",
       " <Response [200]>,\n",
       " <Response [200]>,\n",
       " <Response [200]>,\n",
       " <Response [200]>,\n",
       " <Response [200]>,\n",
       " <Response [200]>,\n",
       " <Response [200]>,\n",
       " <Response [200]>,\n",
       " <Response [200]>,\n",
       " <Response [200]>,\n",
       " <Response [200]>,\n",
       " <Response [200]>,\n",
       " <Response [200]>,\n",
       " <Response [200]>,\n",
       " <Response [200]>,\n",
       " <Response [200]>,\n",
       " <Response [200]>,\n",
       " <Response [200]>,\n",
       " <Response [200]>,\n",
       " <Response [200]>,\n",
       " <Response [200]>]"
      ]
     },
     "execution_count": 9,
     "metadata": {},
     "output_type": "execute_result"
    }
   ],
   "source": [
    "responses"
   ]
  },
  {
   "cell_type": "markdown",
   "metadata": {},
   "source": [
    "# Dumping to Data Files"
   ]
  },
  {
   "cell_type": "code",
   "execution_count": 10,
   "metadata": {},
   "outputs": [],
   "source": [
    "dataframes = [pd.DataFrame.from_dict(json.loads(response.content)) for response in responses]"
   ]
  },
  {
   "cell_type": "code",
   "execution_count": null,
   "metadata": {},
   "outputs": [],
   "source": [
    "pickle.dump(dataframes, open(\"datafeeds.p\", \"wb\"))"
   ]
  },
  {
   "cell_type": "code",
   "execution_count": 11,
   "metadata": {},
   "outputs": [],
   "source": [
    "datafeeds = []\n",
    "for i in range(len(dataframes)):\n",
    "    temp = dataframes[i][['uOpen','uHigh','uLow','uClose','uVolume']]\n",
    "    temp.columns = ['open', 'high', 'low', 'close', 'volume']\n",
    "    temp.index = pd.to_datetime(dataframes[i]['date'])\n",
    "    datafeeds.append(temp)"
   ]
  },
  {
   "cell_type": "code",
   "execution_count": 12,
   "metadata": {},
   "outputs": [],
   "source": [
    "pickle.dump(datafeeds, open(\"datafeeds.p\", \"wb\"))"
   ]
  },
  {
   "cell_type": "code",
   "execution_count": 13,
   "metadata": {},
   "outputs": [],
   "source": [
    "data = np.array([dataframe.open.values for dataframe in dataframes])"
   ]
  },
  {
   "cell_type": "code",
   "execution_count": 14,
   "metadata": {},
   "outputs": [],
   "source": [
    "np.save('data',data)"
   ]
  }
 ],
 "metadata": {
  "kernelspec": {
   "display_name": "Python 3",
   "language": "python",
   "name": "python3"
  },
  "language_info": {
   "codemirror_mode": {
    "name": "ipython",
    "version": 3
   },
   "file_extension": ".py",
   "mimetype": "text/x-python",
   "name": "python",
   "nbconvert_exporter": "python",
   "pygments_lexer": "ipython3",
   "version": "3.7.4"
  }
 },
 "nbformat": 4,
 "nbformat_minor": 2
}
