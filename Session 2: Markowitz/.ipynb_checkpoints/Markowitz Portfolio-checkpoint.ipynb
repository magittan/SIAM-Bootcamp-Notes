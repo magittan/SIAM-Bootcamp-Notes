{
 "cells": [
  {
   "cell_type": "code",
   "execution_count": 1,
   "metadata": {},
   "outputs": [],
   "source": [
    "from datetime import datetime\n",
    "import backtrader as bt\n",
    "import backtrader.analyzers as btanalyzers\n",
    "import numpy as np\n",
    "import pandas as pd\n",
    "import matplotlib.pyplot as plt\n",
    "import pickle\n",
    "import Markowitz as M\n",
    "import pyfolio as pf\n",
    "from sklearn.covariance import LedoitWolf\n",
    "\n",
    "%matplotlib inline"
   ]
  },
  {
   "cell_type": "markdown",
   "metadata": {},
   "source": [
    "# Loading in Data Feeds"
   ]
  },
  {
   "cell_type": "code",
   "execution_count": 2,
   "metadata": {},
   "outputs": [],
   "source": [
    "datafeeds = pickle.load(open('mod_datafeeds.p','rb'))\n",
    "bt_feeds = [bt.feeds.PandasData(dataname=data) for data in datafeeds]"
   ]
  },
  {
   "cell_type": "markdown",
   "metadata": {},
   "source": [
    "# Setting up Helper Functions"
   ]
  },
  {
   "cell_type": "code",
   "execution_count": 22,
   "metadata": {},
   "outputs": [],
   "source": [
    "# Helper Functions\n",
    "def project_to_simplex_2(x):\n",
    "    sorted_x = sorted(x)\n",
    "    t = [np.sum((np.array(sorted_x[-i:])-1)/i) for i in range(1,len(sorted_x)+1)]\n",
    "    t_hat = decider(t,sorted_x)\n",
    "    output = _plus(x-decider(t,sorted_x))\n",
    "    output/=np.sum(output)\n",
    "    \n",
    "    return output\n",
    "\n",
    "def decider(t,sorted_x):\n",
    "    t_hat = None\n",
    "    for i in range(len(t)-1):\n",
    "        if t[i]>=sorted_x[::-1][i+1]:\n",
    "            return t[i]\n",
    "    t_hat = t[-1]\n",
    "    return t_hat\n",
    "\n",
    "_plus = lambda x: np.maximum(x,np.zeros(len(x)))\n",
    "_minus = lambda x: np.minimum(x,np.zeros(len(x)))\n",
    "_ones = lambda x: np.ones(len(x))\n",
    "\n",
    "#Real Time determination of Covariance MAtrix\n",
    "def determine_covariance(time_period_start,time_period_end,returns):\n",
    "    return np.cov(returns[time_period_start:time_period_end,:].T)\n",
    "\n",
    "#Determination of returns w.r.t log returns, this is very similar to simple returns\n",
    "def derive_log_returns(price_data,daily_rf_rate=0):\n",
    "    return np.diff(np.log(price_data), axis=0) - daily_rf_rate"
   ]
  },
  {
   "cell_type": "code",
   "execution_count": 17,
   "metadata": {
    "collapsed": true
   },
   "outputs": [],
   "source": [
    "# Create a subclass of Strategy to define the indicators and logic\n",
    "class Markowitz(bt.Strategy):\n",
    "\n",
    "    def __init__(self, rebalance_period):\n",
    "        self.rebalance_period = rebalance_period\n",
    "        self.weights = []\n",
    "        self.counter = 0\n",
    "        self.allocations = []\n",
    "        \n",
    "    def nextstart(self):\n",
    "        self.rebalance()\n",
    "\n",
    "    def next(self):\n",
    "        self.counter+=1\n",
    "        \n",
    "        if self.counter == 1:\n",
    "            uniform_weights = np.ones(16)/16\n",
    "            self.weights.append(uniform_weights)\n",
    "            self.rebalance()\n",
    "        \n",
    "        if self.counter % self.rebalance_period == 0:\n",
    "            price_data = np.array([self.datas[i].get(size=self.counter) for i in range(len(self.datas))])\n",
    "            log_returns = derive_log_returns(price_data.T)\n",
    "            \n",
    "            estimator = LedoitWolf().fit(log_returns)\n",
    "            MVO = M.Markowitz(log_returns.sum(axis=0),estimator.covariance_)\n",
    "            calculated_weights = MVO.design_portfolio_for_return((self.counter/365))\n",
    "            \n",
    "            self.weights.append(calculated_weights)\n",
    "            self.rebalance()\n",
    "        \n",
    "    def notify_order(self, order):\n",
    "        # 1. If order is submitted/accepted, do nothing \n",
    "        if order.status in [order.Submitted, order.Accepted]:\n",
    "            return\n",
    "        # 2. If order is buy/sell executed, report price executed\n",
    "        if order.status in [order.Completed]: \n",
    "            if not order.isbuy():\n",
    "                print('BUY EXECUTED, Price: {0:8.2f}, Size: {1:8.2f} Cost: {2:8.2f}, Comm: {3:8.2f}'.format(\n",
    "                    order.executed.price,\n",
    "                    order.executed.size,\n",
    "                    order.executed.value,\n",
    "                    order.executed.comm))\n",
    "                \n",
    "                self.buyprice = order.executed.price\n",
    "                self.buycomm = order.executed.comm\n",
    "            else:\n",
    "                print('SELL EXECUTED, {0:8.2f}, Size: {1:8.2f} Cost: {2:8.2f}, Comm{3:8.2f}'.format(\n",
    "                    order.executed.price, \n",
    "                    order.executed.size, \n",
    "                    order.executed.value,\n",
    "                    order.executed.comm))\n",
    "            \n",
    "            self.bar_executed = len(self) #when was trade executed\n",
    "        # 3. If order is canceled/margin/rejected, report order canceled\n",
    "        elif order.status in [order.Canceled, order.Margin, order.Rejected]:\n",
    "            print('Order Canceled/Margin/Rejected')\n",
    "            \n",
    "        self.order = None\n",
    "        \n",
    "    def rebalance(self):\n",
    "        weights = np.ones(len(self.datas))/(len(self.datas))\n",
    "        \n",
    "        if len(self.weights)>0:\n",
    "            weights = project_to_simplex_2(self.weights[-1])\n",
    "        \n",
    "        self.allocations.append(weights)\n",
    "        \n",
    "        for i in range(len(self.datas)):\n",
    "            self.order_target_percent(self.datas[i], target=weights[i])"
   ]
  },
  {
   "cell_type": "code",
   "execution_count": 18,
   "metadata": {
    "collapsed": true
   },
   "outputs": [
    {
     "name": "stdout",
     "output_type": "stream",
     "text": [
      "SELL EXECUTED,   286.83, Size:     2.00 Cost:   573.66, Comm    0.00\n",
      "SELL EXECUTED,   225.46, Size:     2.00 Cost:   450.92, Comm    0.00\n",
      "SELL EXECUTED,   264.61, Size:     2.00 Cost:   529.22, Comm    0.00\n",
      "SELL EXECUTED,    27.38, Size:    22.00 Cost:   602.36, Comm    0.00\n",
      "SELL EXECUTED,    46.06, Size:    13.00 Cost:   598.78, Comm    0.00\n",
      "SELL EXECUTED,   261.26, Size:     2.00 Cost:   522.52, Comm    0.00\n",
      "SELL EXECUTED,    86.74, Size:     7.00 Cost:   607.18, Comm    0.00\n",
      "SELL EXECUTED,   156.82, Size:     3.00 Cost:   470.46, Comm    0.00\n",
      "SELL EXECUTED,   111.24, Size:     5.00 Cost:   556.20, Comm    0.00\n",
      "SELL EXECUTED,   178.53, Size:     3.00 Cost:   535.59, Comm    0.00\n",
      "SELL EXECUTED,   112.47, Size:     5.00 Cost:   562.35, Comm    0.00\n",
      "SELL EXECUTED,   142.50, Size:     4.00 Cost:   570.00, Comm    0.00\n",
      "SELL EXECUTED,    13.49, Size:    46.00 Cost:   620.54, Comm    0.00\n",
      "SELL EXECUTED,    42.03, Size:    15.00 Cost:   630.45, Comm    0.00\n",
      "SELL EXECUTED,    13.39, Size:    46.00 Cost:   615.94, Comm    0.00\n",
      "SELL EXECUTED,    24.74, Size:     2.00 Cost:    49.48, Comm    0.00\n",
      "BUY EXECUTED, Price:    13.59, Size:    -1.00 Cost:    13.49, Comm:     0.00\n",
      "SELL EXECUTED,    18.12, Size:     4.00 Cost:    72.48, Comm    0.00\n",
      "BUY EXECUTED, Price:    45.75, Size:    -1.00 Cost:    46.06, Comm:     0.00\n",
      "SELL EXECUTED,   136.17, Size:     1.00 Cost:   136.17, Comm    0.00\n",
      "SELL EXECUTED,    55.14, Size:     2.00 Cost:   110.28, Comm    0.00\n",
      "SELL EXECUTED,   119.19, Size:     1.00 Cost:   119.19, Comm    0.00\n",
      "SELL EXECUTED,    13.82, Size:     2.00 Cost:    27.64, Comm    0.00\n",
      "BUY EXECUTED, Price:    39.82, Size:    -1.00 Cost:    42.03, Comm:     0.00\n",
      "SELL EXECUTED,     7.32, Size:    20.00 Cost:   146.40, Comm    0.00\n",
      "BUY EXECUTED, Price:    22.33, Size:    -2.00 Cost:    51.74, Comm:     0.00\n",
      "BUY EXECUTED, Price:    74.79, Size:    -1.00 Cost:    79.72, Comm:     0.00\n",
      "SELL EXECUTED,   121.27, Size:     1.00 Cost:   121.27, Comm    0.00\n",
      "BUY EXECUTED, Price:    55.00, Size:    -2.00 Cost:    84.06, Comm:     0.00\n",
      "BUY EXECUTED, Price:     9.08, Size:    -1.00 Cost:    11.55, Comm:     0.00\n",
      "BUY EXECUTED, Price:    27.69, Size:    -3.00 Cost:    77.61, Comm:     0.00\n",
      "SELL EXECUTED,    45.18, Size:     1.00 Cost:    45.18, Comm    0.00\n",
      "SELL EXECUTED,   128.31, Size:     1.00 Cost:   128.31, Comm    0.00\n",
      "BUY EXECUTED, Price:    13.53, Size:    -7.00 Cost:    94.53, Comm:     0.00\n",
      "BUY EXECUTED, Price:    10.01, Size:    -9.00 Cost:   103.96, Comm:     0.00\n",
      "BUY EXECUTED, Price:    33.21, Size:    -1.00 Cost:    25.87, Comm:     0.00\n",
      "SELL EXECUTED,    15.45, Size:     1.00 Cost:    15.45, Comm    0.00\n",
      "SELL EXECUTED,    10.39, Size:     1.00 Cost:    10.39, Comm    0.00\n",
      "SELL EXECUTED,    28.80, Size:     1.00 Cost:    28.80, Comm    0.00\n",
      "SELL EXECUTED,   137.46, Size:     1.00 Cost:   137.46, Comm    0.00\n",
      "BUY EXECUTED, Price:    16.68, Size:    -1.00 Cost:    13.55, Comm:     0.00\n",
      "SELL EXECUTED,     8.31, Size:     2.00 Cost:    16.62, Comm    0.00\n",
      "BUY EXECUTED, Price:    42.63, Size:    -3.00 Cost:    77.99, Comm:     0.00\n",
      "SELL EXECUTED,   202.78, Size:     1.00 Cost:   202.78, Comm    0.00\n",
      "SELL EXECUTED,   154.00, Size:     1.00 Cost:   154.00, Comm    0.00\n",
      "SELL EXECUTED,   139.04, Size:     1.00 Cost:   139.04, Comm    0.00\n",
      "SELL EXECUTED,    15.87, Size:     1.00 Cost:    15.87, Comm    0.00\n",
      "BUY EXECUTED, Price:    10.98, Size:    -1.00 Cost:    11.42, Comm:     0.00\n",
      "SELL EXECUTED,   154.40, Size:     3.00 Cost:   463.20, Comm    0.00\n",
      "BUY EXECUTED, Price:    16.01, Size:    -7.00 Cost:    95.26, Comm:     0.00\n",
      "SELL EXECUTED,    11.06, Size:     7.00 Cost:    77.42, Comm    0.00\n",
      "BUY EXECUTED, Price:    52.10, Size:    -3.00 Cost:    77.99, Comm:     0.00\n",
      "SELL EXECUTED,    72.17, Size:     1.00 Cost:    72.17, Comm    0.00\n",
      "BUY EXECUTED, Price:   177.54, Size:    -1.00 Cost:   122.00, Comm:     0.00\n",
      "SELL EXECUTED,    14.49, Size:    10.00 Cost:   144.90, Comm    0.00\n",
      "BUY EXECUTED, Price:   118.30, Size:    -3.00 Cost:   126.09, Comm:     0.00\n",
      "SELL EXECUTED,     5.62, Size:    50.00 Cost:   281.00, Comm    0.00\n",
      "SELL EXECUTED,   374.84, Size:     1.00 Cost:   374.84, Comm    0.00\n",
      "BUY EXECUTED, Price:  1435.00, Size:    -1.00 Cost:   264.61, Comm:     0.00\n",
      "SELL EXECUTED,    51.03, Size:     4.00 Cost:   204.12, Comm    0.00\n",
      "BUY EXECUTED, Price:   124.62, Size:    -1.00 Cost:    78.88, Comm:     0.00\n",
      "SELL EXECUTED,   257.36, Size:     1.00 Cost:   257.36, Comm    0.00\n",
      "SELL EXECUTED,    22.56, Size:     4.00 Cost:    90.24, Comm    0.00\n",
      "BUY EXECUTED, Price:   191.65, Size:    -1.00 Cost:    42.03, Comm:     0.00\n",
      "SELL EXECUTED,     6.84, Size:    17.00 Cost:   116.28, Comm    0.00\n",
      "SELL EXECUTED,   339.91, Size:     1.00 Cost:   339.91, Comm    0.00\n",
      "BUY EXECUTED, Price:    86.21, Size:    -1.00 Cost:    26.00, Comm:     0.00\n",
      "SELL EXECUTED,    51.71, Size:     2.00 Cost:   103.42, Comm    0.00\n",
      "BUY EXECUTED, Price:   180.13, Size:    -1.00 Cost:    78.88, Comm:     0.00\n",
      "SELL EXECUTED,   180.16, Size:     2.00 Cost:   360.32, Comm    0.00\n",
      "SELL EXECUTED,   287.41, Size:     1.00 Cost:   287.41, Comm    0.00\n",
      "BUY EXECUTED, Price:   227.58, Size:    -1.00 Cost:    42.03, Comm:     0.00\n",
      "SELL EXECUTED,     6.43, Size:    31.00 Cost:   199.33, Comm    0.00\n"
     ]
    }
   ],
   "source": [
    "cerebro = bt.Cerebro()  # create a \"Cerebro\" engine instance\n",
    "\n",
    "[cerebro.adddata(feed) for feed in bt_feeds]  # Add the data feed\n",
    "\n",
    "# Analyzer\n",
    "cerebro.addanalyzer(bt.analyzers.SharpeRatio, _name='mysharpe')\n",
    "cerebro.addanalyzer(bt.analyzers.PyFolio)\n",
    "\n",
    "cerebro.addstrategy(Markowitz,  rebalance_period=50)  # Add the trading strategy\n",
    "strats = cerebro.run()  # run it all"
   ]
  },
  {
   "cell_type": "markdown",
   "metadata": {},
   "source": [
    "# Analysis"
   ]
  },
  {
   "cell_type": "code",
   "execution_count": 19,
   "metadata": {},
   "outputs": [
    {
     "data": {
      "text/plain": [
       "OrderedDict([('sharperatio', 0.9607100323603565)])"
      ]
     },
     "execution_count": 19,
     "metadata": {},
     "output_type": "execute_result"
    }
   ],
   "source": [
    "strats[0].analyzers.mysharpe.get_analysis()"
   ]
  },
  {
   "cell_type": "code",
   "execution_count": 20,
   "metadata": {},
   "outputs": [],
   "source": [
    "pyfolio = strats[0].analyzers.getbyname('pyfolio')\n",
    "returns, positions, transactions, gross_lev = pyfolio.get_pf_items()"
   ]
  },
  {
   "cell_type": "code",
   "execution_count": 21,
   "metadata": {},
   "outputs": [
    {
     "name": "stderr",
     "output_type": "stream",
     "text": [
      "/opt/anaconda3/lib/python3.7/site-packages/pandas/plotting/_matplotlib/converter.py:103: FutureWarning: Using an implicitly registered datetime converter for a matplotlib plotting method. The converter was registered by pandas on import. Future versions of pandas will require you to explicitly register matplotlib converters.\n",
      "\n",
      "To register the converters:\n",
      "\t>>> from pandas.plotting import register_matplotlib_converters\n",
      "\t>>> register_matplotlib_converters()\n",
      "  warnings.warn(msg, FutureWarning)\n"
     ]
    },
    {
     "data": {
      "text/plain": [
       "[<matplotlib.lines.Line2D at 0x7fae223baf50>]"
      ]
     },
     "execution_count": 21,
     "metadata": {},
     "output_type": "execute_result"
    },
    {
     "data": {
      "image/png": "[encoded data removed]",
      "text/plain": [
       "<Figure size 432x288 with 1 Axes>"
      ]
     },
     "metadata": {
      "needs_background": "light"
     },
     "output_type": "display_data"
    }
   ],
   "source": [
    "plt.plot(np.cumsum(returns))"
   ]
  }
 ],
 "metadata": {
  "kernelspec": {
   "display_name": "Python 3",
   "language": "python",
   "name": "python3"
  },
  "language_info": {
   "codemirror_mode": {
    "name": "ipython",
    "version": 3
   },
   "file_extension": ".py",
   "mimetype": "text/x-python",
   "name": "python",
   "nbconvert_exporter": "python",
   "pygments_lexer": "ipython3",
   "version": "3.7.4"
  }
 },
 "nbformat": 4,
 "nbformat_minor": 4
}
